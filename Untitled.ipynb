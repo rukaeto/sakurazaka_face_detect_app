{
 "cells": [
  {
   "cell_type": "code",
   "execution_count": 3,
   "id": "cc4eea34-454c-4632-a168-0f9b0d653704",
   "metadata": {},
   "outputs": [],
   "source": [
    "import os\n",
    "from dotenv.__init__ import load_dotenv\n",
    "from os import getenv"
   ]
  },
  {
   "cell_type": "code",
   "execution_count": 2,
   "id": "edd0d930-742d-4d39-978d-89be717931bf",
   "metadata": {},
   "outputs": [
    {
     "data": {
      "text/plain": [
       "True"
      ]
     },
     "execution_count": 2,
     "metadata": {},
     "output_type": "execute_result"
    }
   ],
   "source": [
    "load_dotenv()"
   ]
  },
  {
   "cell_type": "code",
   "execution_count": 4,
   "id": "a111940d-757b-44b5-9d85-ac66348f3346",
   "metadata": {},
   "outputs": [],
   "source": [
    "a = getenv('AZURE_KEY')"
   ]
  },
  {
   "cell_type": "code",
   "execution_count": 5,
   "id": "5b968b3c-e47d-49dc-b6d5-0d3e506af757",
   "metadata": {},
   "outputs": [
    {
     "data": {
      "text/plain": [
       "'695d7c7080264c7ba21e9e2592440c68'"
      ]
     },
     "execution_count": 5,
     "metadata": {},
     "output_type": "execute_result"
    }
   ],
   "source": [
    "a"
   ]
  },
  {
   "cell_type": "code",
   "execution_count": null,
   "id": "bd7c5a5f-ab59-4de9-ab45-a7c519823d56",
   "metadata": {},
   "outputs": [],
   "source": []
  }
 ],
 "metadata": {
  "kernelspec": {
   "display_name": "Python 3 (ipykernel)",
   "language": "python",
   "name": "python3"
  },
  "language_info": {
   "codemirror_mode": {
    "name": "ipython",
    "version": 3
   },
   "file_extension": ".py",
   "mimetype": "text/x-python",
   "name": "python",
   "nbconvert_exporter": "python",
   "pygments_lexer": "ipython3",
   "version": "3.9.5"
  }
 },
 "nbformat": 4,
 "nbformat_minor": 5
}
